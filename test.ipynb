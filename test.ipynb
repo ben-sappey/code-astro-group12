{
 "cells": [
  {
   "cell_type": "code",
   "execution_count": 34,
   "metadata": {},
   "outputs": [],
   "source": [
    "from load import file_read\n",
    "import matplotlib.pyplot as plt\n",
    "import numpy as np\n",
    "from lmfit.models import GaussianModel, VoigtModel, LinearModel, ConstantModel\n",
    "\n"
   ]
  },
  {
   "cell_type": "code",
   "execution_count": 28,
   "metadata": {},
   "outputs": [
    {
     "name": "stdout",
     "output_type": "stream",
     "text": [
      "       Wavenumber Intensity\n",
      "      6002.932793  0.114082\n",
      "0     6002.932638  0.114254\n",
      "1     6002.932479  0.114432\n",
      "2     6002.932324  0.114394\n",
      "3     6002.932166  0.114453\n",
      "4     6002.932011  0.114896\n",
      "...           ...       ...\n",
      "4994  6002.151918  0.011916\n",
      "4995  6002.151759  0.011867\n",
      "4996  6002.151604  0.011884\n",
      "4997  6002.151446  0.011698\n",
      "4998  6002.151291  0.011853\n",
      "\n",
      "[4999 rows x 2 columns]\n",
      "MultiIndex([('Wavenumber', '6002.932793'),\n",
      "            ( 'Intensity',    '0.114082')],\n",
      "           )\n"
     ]
    }
   ],
   "source": [
    "filepath = \"/Users/bensappey/Downloads/Source_file_METEC_04NOV_2021_methane_background.csv\"\n",
    "\n",
    "spectrum = file_read(filepath=filepath)\n",
    "print(spectrum)\n",
    "print(spectrum.columns)\n",
    "\n",
    "\n"
   ]
  },
  {
   "cell_type": "code",
   "execution_count": 40,
   "metadata": {},
   "outputs": [
    {
     "data": {
      "image/png": "[encoded data removed]",
      "text/plain": [
       "<Figure size 432x288 with 1 Axes>"
      ]
     },
     "metadata": {
      "needs_background": "light"
     },
     "output_type": "display_data"
    }
   ],
   "source": [
    "\n",
    "plt.plot(spectrum[\"Wavenumber\"],spectrum[\"Intensity\"])\n",
    "plt.show()"
   ]
  },
  {
   "cell_type": "code",
   "execution_count": 52,
   "metadata": {},
   "outputs": [
    {
     "name": "stdout",
     "output_type": "stream",
     "text": [
      "[[6002.932638]\n",
      " [6002.932479]\n",
      " [6002.932324]\n",
      " ...\n",
      " [6002.151604]\n",
      " [6002.151446]\n",
      " [6002.151291]]\n",
      "[[0.114254]\n",
      " [0.114432]\n",
      " [0.114394]\n",
      " ...\n",
      " [0.011884]\n",
      " [0.011698]\n",
      " [0.011853]]\n",
      "Using matplotlib backend: MacOSX\n"
     ]
    }
   ],
   "source": [
    "x = spectrum['Wavenumber'].values\n",
    "y = spectrum['Intensity'].values\n",
    "print(x)\n",
    "print(y)\n",
    "x_crop = x[2500:]\n",
    "y_crop = y[2500:]\n",
    "%matplotlib\n",
    "plt.plot(x_crop,y_crop)\n",
    "plt.plot(x,y+1)\n",
    "plt.show()"
   ]
  },
  {
   "cell_type": "code",
   "execution_count": 43,
   "metadata": {},
   "outputs": [
    {
     "name": "stdout",
     "output_type": "stream",
     "text": [
      "[[Model]]\n",
      "    Model(voigt)\n",
      "[[Fit Statistics]]\n",
      "    # fitting method   = leastsq\n",
      "    # function evals   = 8\n",
      "    # data points      = 4999\n",
      "    # variables        = 3\n",
      "    chi-square         = 1560.46608\n",
      "    reduced chi-square = 0.31234309\n",
      "    Akaike info crit   = -5814.10248\n",
      "    Bayesian info crit = -5794.55150\n",
      "    R-squared          = -0.54417628\n",
      "##  Warning: uncertainties could not be estimated:\n",
      "    center:     at initial value\n",
      "    sigma:      at boundary\n",
      "[[Variables]]\n",
      "    amplitude:  1.1425e-16 +/-        nan (nan%) (init = 0)\n",
      "    center:     6002.93264 +/-        nan (nan%) (init = 6002.933)\n",
      "    sigma:      0.00000000 +/--0.00000000 (nan%) (init = 0)\n",
      "    gamma:      0.00000000 +/- 0.00000000 (nan%) == 'sigma'\n",
      "    fwhm:       0.00000000 +/- 0.00000000 (nan%) == '1.0692*gamma+sqrt(0.8664*gamma**2+5.545083*sigma**2)'\n",
      "    height:     0.11425400 +/- 0.00000000 (0.00%) == '(amplitude/(max(1e-15, sigma*sqrt(2*pi))))*wofz((1j*gamma)/(max(1e-15, sigma*sqrt(2)))).real'\n"
     ]
    }
   ],
   "source": [
    "\n",
    "mod = VoigtModel()\n",
    "\n",
    "pars = mod.guess(y, x=x)\n",
    "out = mod.fit(y, pars, x=x)\n",
    "\n",
    "print(out.fit_report(min_correl=0.25))"
   ]
  },
  {
   "cell_type": "code",
   "execution_count": 61,
   "metadata": {},
   "outputs": [
    {
     "name": "stdout",
     "output_type": "stream",
     "text": [
      "[[Model]]\n",
      "    (Model(voigt, prefix='v1_') + Model(voigt, prefix='v2_'))\n",
      "[[Fit Statistics]]\n",
      "    # fitting method   = leastsq\n",
      "    # function evals   = 602\n",
      "    # data points      = 4999\n",
      "    # variables        = 9\n",
      "    chi-square         = 1010.49392\n",
      "    reduced chi-square = 0.20250379\n",
      "    Akaike info crit   = -7974.39447\n",
      "    Bayesian info crit = -7915.74153\n",
      "    R-squared          = 5.4687e-05\n",
      "##  Warning: uncertainties could not be estimated:\n",
      "    center:        at initial value\n",
      "    sigma:         at boundary\n",
      "    v1_center:     at boundary\n",
      "    v2_center:     at boundary\n",
      "[[Variables]]\n",
      "    amplitude:     0.00000000 (init = 0)\n",
      "    center:        6002.93264 (init = 6002.933)\n",
      "    sigma:         0.00000000 (init = 0)\n",
      "    gamma:         0.00000000 == 'sigma'\n",
      "    fwhm:          0.00000000 == '1.0692*gamma+sqrt(0.8664*gamma**2+5.545083*sigma**2)'\n",
      "    height:        0.00000000 == '(amplitude/(max(1e-15, sigma*sqrt(2*pi))))*wofz((1j*gamma)/(max(1e-15, sigma*sqrt(2)))).real'\n",
      "    v1_amplitude:  4406.84552 (init = 160)\n",
      "    v1_center:     6400.00003 (init = 6450)\n",
      "    v1_sigma:      36.2908679 (init = 1)\n",
      "    v1_gamma:      36.2908679 == 'v1_sigma'\n",
      "    v1_fwhm:       130.693963 == '1.0692*v1_gamma+sqrt(0.8664*v1_gamma**2+5.545083*v1_sigma**2)'\n",
      "    v1_height:     25.3438293 == '(v1_amplitude/(max(1e-15, v1_sigma*sqrt(2*pi))))*wofz((1j*v1_gamma)/(max(1e-15, v1_sigma*sqrt(2)))).real'\n",
      "    v2_amplitude:  330.519855 (init = 150)\n",
      "    v2_center:     6500.00001 (init = 6550)\n",
      "    v2_sigma:      9.18029565 (init = 1)\n",
      "    v2_gamma:      9.18029565 == 'v2_sigma'\n",
      "    v2_fwhm:       33.0609128 == '1.0692*v2_gamma+sqrt(0.8664*v2_gamma**2+5.545083*v2_sigma**2)'\n",
      "    v2_height:     7.51419821 == '(v2_amplitude/(max(1e-15, v2_sigma*sqrt(2*pi))))*wofz((1j*v2_gamma)/(max(1e-15, v2_sigma*sqrt(2)))).real'\n"
     ]
    }
   ],
   "source": [
    "voigt1 = VoigtModel(prefix='v1_')\n",
    "pars.update(voigt1.make_params(center=dict(value=6.45e3, min=6.40e3, max=6.50e3),\n",
    "                               sigma=dict(value=1, min=0),\n",
    "                               amplitude=dict(value=160, min=0)))\n",
    "\n",
    "voigt2 = VoigtModel(prefix='v2_')\n",
    "pars.update(voigt2.make_params(center=dict(value=6.55e3, min=6.5e3, max=6.6e3),\n",
    "                               sigma=dict(value=1, min=0),\n",
    "                               amplitude=dict(value=150, min=0)))\n",
    "\n",
    "mod = voigt1 + voigt2 \n",
    "\n",
    "init = mod.eval(pars, x=x)\n",
    "out = mod.fit(y, pars, x=x)\n",
    "\n",
    "print(out.fit_report(correl_mode='list'))\n",
    "\n",
    "fig, axes = plt.subplots(1, 2, figsize=(12.8, 4.8))\n",
    "axes[0].plot(x, y)\n",
    "axes[0].plot(x, init, '--', label='initial fit')\n",
    "axes[0].plot(x, out.best_fit, '-', label='best fit')\n",
    "axes[0].legend()\n",
    "\n",
    "comps = out.eval_components(x=x)\n",
    "axes[1].plot(x, y)\n",
    "axes[1].plot(x, comps['v1_'], '--', label='Voigt component 1')\n",
    "axes[1].plot(x, comps['v2_'], '--', label='Voigt component 2')\n",
    "# axes[1].plot(x, comps['exp_'], '--', label='Exponential component')\n",
    "axes[1].legend()\n",
    "\n",
    "plt.show()\n",
    "# <end exam"
   ]
  },
  {
   "cell_type": "code",
   "execution_count": null,
   "metadata": {},
   "outputs": [],
   "source": []
  }
 ],
 "metadata": {
  "kernelspec": {
   "display_name": "kpic",
   "language": "python",
   "name": "python3"
  },
  "language_info": {
   "codemirror_mode": {
    "name": "ipython",
    "version": 3
   },
   "file_extension": ".py",
   "mimetype": "text/x-python",
   "name": "python",
   "nbconvert_exporter": "python",
   "pygments_lexer": "ipython3",
   "version": "3.7.13"
  },
  "orig_nbformat": 4
 },
 "nbformat": 4,
 "nbformat_minor": 2
}
